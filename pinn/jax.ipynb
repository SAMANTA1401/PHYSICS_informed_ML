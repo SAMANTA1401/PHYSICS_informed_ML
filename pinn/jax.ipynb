{
 "cells": [
  {
   "cell_type": "markdown",
   "metadata": {},
   "source": [
    "JAX is a library for array-oriented numerical computation (à la NumPy), with automatic differentiation and JIT compilation to enable high-performance machine learning research."
   ]
  },
  {
   "cell_type": "markdown",
   "metadata": {},
   "source": [
    "(D:\\a27_YEARS_OLD\\pyspark\\venv)"
   ]
  },
  {
   "cell_type": "code",
   "execution_count": 1,
   "metadata": {},
   "outputs": [],
   "source": [
    "from jax import numpy as np"
   ]
  },
  {
   "cell_type": "code",
   "execution_count": 2,
   "metadata": {},
   "outputs": [],
   "source": [
    "import jax"
   ]
  },
  {
   "cell_type": "markdown",
   "metadata": {},
   "source": [
    " python -m pip install --upgrade pip"
   ]
  },
  {
   "cell_type": "code",
   "execution_count": 3,
   "metadata": {},
   "outputs": [
    {
     "name": "stdout",
     "output_type": "stream",
     "text": [
      "[5 7 9]\n",
      "[ 4 10 18]\n"
     ]
    }
   ],
   "source": [
    "import jax.numpy as jnp\n",
    "\n",
    "# Create a JAX array\n",
    "x = jnp.array([1, 2, 3])\n",
    "\n",
    "# Basic operations\n",
    "y = jnp.array([4, 5, 6])\n",
    "print(jnp.add(x, y))  # Output: [5 7 9]\n",
    "print(jnp.multiply(x, y))  # Output: [ 4 10 18]"
   ]
  },
  {
   "cell_type": "code",
   "execution_count": 4,
   "metadata": {},
   "outputs": [
    {
     "name": "stdout",
     "output_type": "stream",
     "text": [
      "-0.41614684\n"
     ]
    }
   ],
   "source": [
    "import jax\n",
    "\n",
    "# Define a function\n",
    "def my_function(x):\n",
    "    return jnp.sin(x)\n",
    "\n",
    "# Compute the gradient\n",
    "x = 2.0\n",
    "grad = jax.grad(my_function)(x)\n",
    "print(grad)  # Output: 0.9092974268256817"
   ]
  },
  {
   "cell_type": "code",
   "execution_count": 6,
   "metadata": {},
   "outputs": [
    {
     "name": "stdout",
     "output_type": "stream",
     "text": [
      "[0.84147096 0.9092974  0.14112   ]\n",
      "[3 4 5]\n"
     ]
    }
   ],
   "source": [
    "import jax.numpy as jnp\n",
    "\n",
    "# Create a JAX array\n",
    "x = jnp.array([1, 2, 3])\n",
    "\n",
    "# Vectorized operation\n",
    "y = jnp.sin(x)\n",
    "print(y)  # Output: [0.84147096 0.90929743 0.14112001]\n",
    "\n",
    "# Broadcasting\n",
    "z = jnp.array([2, 2, 2])\n",
    "print(x + z)  # Output: [3 4 5]"
   ]
  },
  {
   "cell_type": "code",
   "execution_count": 7,
   "metadata": {},
   "outputs": [
    {
     "name": "stdout",
     "output_type": "stream",
     "text": [
      "0.9092974\n"
     ]
    }
   ],
   "source": [
    "import jax\n",
    "import jax.numpy as jnp\n",
    "\n",
    "# Define a function\n",
    "def my_function(x):\n",
    "    return jnp.sin(x)\n",
    "\n",
    "# JIT compile the function\n",
    "my_function_jit = jax.jit(my_function)\n",
    "\n",
    "# Run the JIT compiled function\n",
    "x = 2.0\n",
    "result = my_function_jit(x)\n",
    "print(result)  # Output: 0.9092974268256817"
   ]
  },
  {
   "cell_type": "code",
   "execution_count": null,
   "metadata": {},
   "outputs": [],
   "source": []
  }
 ],
 "metadata": {
  "kernelspec": {
   "display_name": "Python 3",
   "language": "python",
   "name": "python3"
  },
  "language_info": {
   "codemirror_mode": {
    "name": "ipython",
    "version": 3
   },
   "file_extension": ".py",
   "mimetype": "text/x-python",
   "name": "python",
   "nbconvert_exporter": "python",
   "pygments_lexer": "ipython3",
   "version": "3.13.1"
  }
 },
 "nbformat": 4,
 "nbformat_minor": 2
}
